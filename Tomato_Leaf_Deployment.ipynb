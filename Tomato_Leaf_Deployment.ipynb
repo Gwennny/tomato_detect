{
  "nbformat": 4,
  "nbformat_minor": 0,
  "metadata": {
    "colab": {
      "name": "Tomato_Leaf_Deployment.ipynb",
      "provenance": [],
      "collapsed_sections": [],
      "authorship_tag": "ABX9TyMakTAlo0x1HEOUntnPhBee",
      "include_colab_link": true
    },
    "kernelspec": {
      "name": "python3",
      "display_name": "Python 3"
    },
    "language_info": {
      "name": "python"
    },
    "accelerator": "TPU"
  },
  "cells": [
    {
      "cell_type": "markdown",
      "metadata": {
        "id": "view-in-github",
        "colab_type": "text"
      },
      "source": [
        "<a href=\"https://colab.research.google.com/github/Gwennny/tomato_detect/blob/main/Tomato_Leaf_Deployment.ipynb\" target=\"_parent\"><img src=\"https://colab.research.google.com/assets/colab-badge.svg\" alt=\"Open In Colab\"/></a>"
      ]
    },
    {
      "cell_type": "code",
      "metadata": {
        "colab": {
          "base_uri": "https://localhost:8080/"
        },
        "id": "qGiIoI8fmfrO",
        "outputId": "d27475a7-bc64-4c2d-b224-5b8213fca5cd"
      },
      "source": [
        "!pip install -U ipykernel"
      ],
      "execution_count": 1,
      "outputs": [
        {
          "output_type": "stream",
          "text": [
            "Requirement already up-to-date: ipykernel in /usr/local/lib/python3.7/dist-packages (6.0.1)\n",
            "Requirement already satisfied, skipping upgrade: jupyter-client in /usr/local/lib/python3.7/dist-packages (from ipykernel) (5.3.5)\n",
            "Requirement already satisfied, skipping upgrade: ipython>=7.23.1 in /usr/local/lib/python3.7/dist-packages (from ipykernel) (7.25.0)\n",
            "Requirement already satisfied, skipping upgrade: importlib-metadata<4; python_version < \"3.8.0\" in /usr/local/lib/python3.7/dist-packages (from ipykernel) (3.10.1)\n",
            "Requirement already satisfied, skipping upgrade: tornado>=4.2 in /usr/local/lib/python3.7/dist-packages (from ipykernel) (5.1.1)\n",
            "Requirement already satisfied, skipping upgrade: traitlets>=4.1.0 in /usr/local/lib/python3.7/dist-packages (from ipykernel) (5.0.5)\n",
            "Requirement already satisfied, skipping upgrade: debugpy>=1.0.0 in /usr/local/lib/python3.7/dist-packages (from ipykernel) (1.0.0)\n",
            "Requirement already satisfied, skipping upgrade: jupyter-core>=4.6.0 in /usr/local/lib/python3.7/dist-packages (from jupyter-client->ipykernel) (4.7.1)\n",
            "Requirement already satisfied, skipping upgrade: python-dateutil>=2.1 in /usr/local/lib/python3.7/dist-packages (from jupyter-client->ipykernel) (2.8.1)\n",
            "Requirement already satisfied, skipping upgrade: pyzmq>=13 in /usr/local/lib/python3.7/dist-packages (from jupyter-client->ipykernel) (22.1.0)\n",
            "Requirement already satisfied, skipping upgrade: pygments in /usr/local/lib/python3.7/dist-packages (from ipython>=7.23.1->ipykernel) (2.6.1)\n",
            "Requirement already satisfied, skipping upgrade: decorator in /usr/local/lib/python3.7/dist-packages (from ipython>=7.23.1->ipykernel) (4.4.2)\n",
            "Requirement already satisfied, skipping upgrade: pexpect>4.3; sys_platform != \"win32\" in /usr/local/lib/python3.7/dist-packages (from ipython>=7.23.1->ipykernel) (4.8.0)\n",
            "Requirement already satisfied, skipping upgrade: jedi>=0.16 in /usr/local/lib/python3.7/dist-packages (from ipython>=7.23.1->ipykernel) (0.18.0)\n",
            "Requirement already satisfied, skipping upgrade: prompt-toolkit!=3.0.0,!=3.0.1,<3.1.0,>=2.0.0 in /usr/local/lib/python3.7/dist-packages (from ipython>=7.23.1->ipykernel) (3.0.19)\n",
            "Requirement already satisfied, skipping upgrade: setuptools>=18.5 in /usr/local/lib/python3.7/dist-packages (from ipython>=7.23.1->ipykernel) (57.0.0)\n",
            "Requirement already satisfied, skipping upgrade: matplotlib-inline in /usr/local/lib/python3.7/dist-packages (from ipython>=7.23.1->ipykernel) (0.1.2)\n",
            "Requirement already satisfied, skipping upgrade: backcall in /usr/local/lib/python3.7/dist-packages (from ipython>=7.23.1->ipykernel) (0.2.0)\n",
            "Requirement already satisfied, skipping upgrade: pickleshare in /usr/local/lib/python3.7/dist-packages (from ipython>=7.23.1->ipykernel) (0.7.5)\n",
            "Requirement already satisfied, skipping upgrade: typing-extensions>=3.6.4; python_version < \"3.8\" in /usr/local/lib/python3.7/dist-packages (from importlib-metadata<4; python_version < \"3.8.0\"->ipykernel) (3.7.4.3)\n",
            "Requirement already satisfied, skipping upgrade: zipp>=0.5 in /usr/local/lib/python3.7/dist-packages (from importlib-metadata<4; python_version < \"3.8.0\"->ipykernel) (3.4.1)\n",
            "Requirement already satisfied, skipping upgrade: ipython-genutils in /usr/local/lib/python3.7/dist-packages (from traitlets>=4.1.0->ipykernel) (0.2.0)\n",
            "Requirement already satisfied, skipping upgrade: six>=1.5 in /usr/local/lib/python3.7/dist-packages (from python-dateutil>=2.1->jupyter-client->ipykernel) (1.15.0)\n",
            "Requirement already satisfied, skipping upgrade: ptyprocess>=0.5 in /usr/local/lib/python3.7/dist-packages (from pexpect>4.3; sys_platform != \"win32\"->ipython>=7.23.1->ipykernel) (0.7.0)\n",
            "Requirement already satisfied, skipping upgrade: parso<0.9.0,>=0.8.0 in /usr/local/lib/python3.7/dist-packages (from jedi>=0.16->ipython>=7.23.1->ipykernel) (0.8.2)\n",
            "Requirement already satisfied, skipping upgrade: wcwidth in /usr/local/lib/python3.7/dist-packages (from prompt-toolkit!=3.0.0,!=3.0.1,<3.1.0,>=2.0.0->ipython>=7.23.1->ipykernel) (0.2.5)\n"
          ],
          "name": "stdout"
        }
      ]
    },
    {
      "cell_type": "code",
      "metadata": {
        "colab": {
          "base_uri": "https://localhost:8080/"
        },
        "id": "ZmS7Uau7niuW",
        "outputId": "cb4dce8e-88f7-4b30-8d6d-4baedb946564"
      },
      "source": [
        "!pip install -q streamlit"
      ],
      "execution_count": 2,
      "outputs": [
        {
          "output_type": "stream",
          "text": [
            "\u001b[K     |████████████████████████████████| 7.8MB 5.4MB/s \n",
            "\u001b[K     |████████████████████████████████| 112kB 41.0MB/s \n",
            "\u001b[K     |████████████████████████████████| 4.2MB 41.7MB/s \n",
            "\u001b[K     |████████████████████████████████| 174kB 50.9MB/s \n",
            "\u001b[K     |████████████████████████████████| 81kB 7.8MB/s \n",
            "\u001b[K     |████████████████████████████████| 71kB 7.6MB/s \n",
            "\u001b[?25h  Building wheel for blinker (setup.py) ... \u001b[?25l\u001b[?25hdone\n"
          ],
          "name": "stdout"
        }
      ]
    },
    {
      "cell_type": "code",
      "metadata": {
        "colab": {
          "base_uri": "https://localhost:8080/"
        },
        "id": "LGPgei3H7Hhq",
        "outputId": "ee7cebdb-1ab6-4e47-c77e-79608d276894"
      },
      "source": [
        "!pip install pillow"
      ],
      "execution_count": 3,
      "outputs": [
        {
          "output_type": "stream",
          "text": [
            "Requirement already satisfied: pillow in /usr/local/lib/python3.7/dist-packages (7.1.2)\n"
          ],
          "name": "stdout"
        }
      ]
    },
    {
      "cell_type": "code",
      "metadata": {
        "colab": {
          "base_uri": "https://localhost:8080/"
        },
        "id": "tVzbVPn6nuDS",
        "outputId": "8e370570-81cc-4831-bd53-689d309a529c"
      },
      "source": [
        "!pip install pyngrok"
      ],
      "execution_count": 4,
      "outputs": [
        {
          "output_type": "stream",
          "text": [
            "Collecting pyngrok\n",
            "\u001b[?25l  Downloading https://files.pythonhosted.org/packages/6b/4e/a2fe095bbe17cf26424c4abcd22a0490e22d01cc628f25af5e220ddbf6f0/pyngrok-5.0.5.tar.gz (745kB)\n",
            "\r\u001b[K     |▍                               | 10kB 13.8MB/s eta 0:00:01\r\u001b[K     |▉                               | 20kB 10.3MB/s eta 0:00:01\r\u001b[K     |█▎                              | 30kB 9.1MB/s eta 0:00:01\r\u001b[K     |█▊                              | 40kB 8.5MB/s eta 0:00:01\r\u001b[K     |██▏                             | 51kB 4.5MB/s eta 0:00:01\r\u001b[K     |██▋                             | 61kB 5.2MB/s eta 0:00:01\r\u001b[K     |███                             | 71kB 5.5MB/s eta 0:00:01\r\u001b[K     |███▌                            | 81kB 6.0MB/s eta 0:00:01\r\u001b[K     |████                            | 92kB 6.2MB/s eta 0:00:01\r\u001b[K     |████▍                           | 102kB 4.9MB/s eta 0:00:01\r\u001b[K     |████▉                           | 112kB 4.9MB/s eta 0:00:01\r\u001b[K     |█████▎                          | 122kB 4.9MB/s eta 0:00:01\r\u001b[K     |█████▊                          | 133kB 4.9MB/s eta 0:00:01\r\u001b[K     |██████▏                         | 143kB 4.9MB/s eta 0:00:01\r\u001b[K     |██████▋                         | 153kB 4.9MB/s eta 0:00:01\r\u001b[K     |███████                         | 163kB 4.9MB/s eta 0:00:01\r\u001b[K     |███████▌                        | 174kB 4.9MB/s eta 0:00:01\r\u001b[K     |████████                        | 184kB 4.9MB/s eta 0:00:01\r\u001b[K     |████████▍                       | 194kB 4.9MB/s eta 0:00:01\r\u001b[K     |████████▉                       | 204kB 4.9MB/s eta 0:00:01\r\u001b[K     |█████████▎                      | 215kB 4.9MB/s eta 0:00:01\r\u001b[K     |█████████▊                      | 225kB 4.9MB/s eta 0:00:01\r\u001b[K     |██████████▏                     | 235kB 4.9MB/s eta 0:00:01\r\u001b[K     |██████████▌                     | 245kB 4.9MB/s eta 0:00:01\r\u001b[K     |███████████                     | 256kB 4.9MB/s eta 0:00:01\r\u001b[K     |███████████▍                    | 266kB 4.9MB/s eta 0:00:01\r\u001b[K     |███████████▉                    | 276kB 4.9MB/s eta 0:00:01\r\u001b[K     |████████████▎                   | 286kB 4.9MB/s eta 0:00:01\r\u001b[K     |████████████▊                   | 296kB 4.9MB/s eta 0:00:01\r\u001b[K     |█████████████▏                  | 307kB 4.9MB/s eta 0:00:01\r\u001b[K     |█████████████▋                  | 317kB 4.9MB/s eta 0:00:01\r\u001b[K     |██████████████                  | 327kB 4.9MB/s eta 0:00:01\r\u001b[K     |██████████████▌                 | 337kB 4.9MB/s eta 0:00:01\r\u001b[K     |███████████████                 | 348kB 4.9MB/s eta 0:00:01\r\u001b[K     |███████████████▍                | 358kB 4.9MB/s eta 0:00:01\r\u001b[K     |███████████████▉                | 368kB 4.9MB/s eta 0:00:01\r\u001b[K     |████████████████▎               | 378kB 4.9MB/s eta 0:00:01\r\u001b[K     |████████████████▊               | 389kB 4.9MB/s eta 0:00:01\r\u001b[K     |█████████████████▏              | 399kB 4.9MB/s eta 0:00:01\r\u001b[K     |█████████████████▋              | 409kB 4.9MB/s eta 0:00:01\r\u001b[K     |██████████████████              | 419kB 4.9MB/s eta 0:00:01\r\u001b[K     |██████████████████▌             | 430kB 4.9MB/s eta 0:00:01\r\u001b[K     |███████████████████             | 440kB 4.9MB/s eta 0:00:01\r\u001b[K     |███████████████████▍            | 450kB 4.9MB/s eta 0:00:01\r\u001b[K     |███████████████████▉            | 460kB 4.9MB/s eta 0:00:01\r\u001b[K     |████████████████████▎           | 471kB 4.9MB/s eta 0:00:01\r\u001b[K     |████████████████████▊           | 481kB 4.9MB/s eta 0:00:01\r\u001b[K     |█████████████████████           | 491kB 4.9MB/s eta 0:00:01\r\u001b[K     |█████████████████████▌          | 501kB 4.9MB/s eta 0:00:01\r\u001b[K     |██████████████████████          | 512kB 4.9MB/s eta 0:00:01\r\u001b[K     |██████████████████████▍         | 522kB 4.9MB/s eta 0:00:01\r\u001b[K     |██████████████████████▉         | 532kB 4.9MB/s eta 0:00:01\r\u001b[K     |███████████████████████▎        | 542kB 4.9MB/s eta 0:00:01\r\u001b[K     |███████████████████████▊        | 552kB 4.9MB/s eta 0:00:01\r\u001b[K     |████████████████████████▏       | 563kB 4.9MB/s eta 0:00:01\r\u001b[K     |████████████████████████▋       | 573kB 4.9MB/s eta 0:00:01\r\u001b[K     |█████████████████████████       | 583kB 4.9MB/s eta 0:00:01\r\u001b[K     |█████████████████████████▌      | 593kB 4.9MB/s eta 0:00:01\r\u001b[K     |██████████████████████████      | 604kB 4.9MB/s eta 0:00:01\r\u001b[K     |██████████████████████████▍     | 614kB 4.9MB/s eta 0:00:01\r\u001b[K     |██████████████████████████▉     | 624kB 4.9MB/s eta 0:00:01\r\u001b[K     |███████████████████████████▎    | 634kB 4.9MB/s eta 0:00:01\r\u001b[K     |███████████████████████████▊    | 645kB 4.9MB/s eta 0:00:01\r\u001b[K     |████████████████████████████▏   | 655kB 4.9MB/s eta 0:00:01\r\u001b[K     |████████████████████████████▋   | 665kB 4.9MB/s eta 0:00:01\r\u001b[K     |█████████████████████████████   | 675kB 4.9MB/s eta 0:00:01\r\u001b[K     |█████████████████████████████▌  | 686kB 4.9MB/s eta 0:00:01\r\u001b[K     |██████████████████████████████  | 696kB 4.9MB/s eta 0:00:01\r\u001b[K     |██████████████████████████████▍ | 706kB 4.9MB/s eta 0:00:01\r\u001b[K     |██████████████████████████████▉ | 716kB 4.9MB/s eta 0:00:01\r\u001b[K     |███████████████████████████████▏| 727kB 4.9MB/s eta 0:00:01\r\u001b[K     |███████████████████████████████▋| 737kB 4.9MB/s eta 0:00:01\r\u001b[K     |████████████████████████████████| 747kB 4.9MB/s \n",
            "\u001b[?25hRequirement already satisfied: PyYAML in /usr/local/lib/python3.7/dist-packages (from pyngrok) (3.13)\n",
            "Building wheels for collected packages: pyngrok\n",
            "  Building wheel for pyngrok (setup.py) ... \u001b[?25l\u001b[?25hdone\n",
            "  Created wheel for pyngrok: filename=pyngrok-5.0.5-cp37-none-any.whl size=19262 sha256=9aa66872e76cca8cd0e204b2c313000745ac9e3545a24184a9945cf093596c5d\n",
            "  Stored in directory: /root/.cache/pip/wheels/0c/13/64/5ebbcc22eaf53fdf5766b397c1fb17c83f5775fdccf0ea1b88\n",
            "Successfully built pyngrok\n",
            "Installing collected packages: pyngrok\n",
            "Successfully installed pyngrok-5.0.5\n"
          ],
          "name": "stdout"
        }
      ]
    },
    {
      "cell_type": "code",
      "metadata": {
        "colab": {
          "base_uri": "https://localhost:8080/"
        },
        "id": "7-N08az8n4Ny",
        "outputId": "964df4ac-132e-4494-90c2-829d33ec642c"
      },
      "source": [
        "!ngrok authtoken 1urKShmUJK2fQK222udXSBN6D26_3Vr9rHsU8NHwJEYC3yiP9"
      ],
      "execution_count": 5,
      "outputs": [
        {
          "output_type": "stream",
          "text": [
            "Authtoken saved to configuration file: /root/.ngrok2/ngrok.yml\n"
          ],
          "name": "stdout"
        }
      ]
    },
    {
      "cell_type": "code",
      "metadata": {
        "colab": {
          "base_uri": "https://localhost:8080/"
        },
        "id": "CMmEdtCdqMA6",
        "outputId": "39f4da52-2f2d-4846-bd68-2afba2b1ba03"
      },
      "source": [
        "from google.colab import drive\n",
        "drive.mount('/content/drive')"
      ],
      "execution_count": 6,
      "outputs": [
        {
          "output_type": "stream",
          "text": [
            "Mounted at /content/drive\n"
          ],
          "name": "stdout"
        }
      ]
    },
    {
      "cell_type": "code",
      "metadata": {
        "colab": {
          "base_uri": "https://localhost:8080/"
        },
        "id": "h65DTwDDqVGM",
        "outputId": "964f0e48-a340-4a66-a4c2-47a17ff61f8a"
      },
      "source": [
        "%%writefile predict.py\n",
        "import tensorflow as tf\n",
        "import numpy as np\n",
        "import streamlit as st\n",
        "from PIL import Image\n",
        "import requests\n",
        "from io import BytesIO\n",
        "\n",
        "st.set_option('deprecation.showfileUploaderEncoding', False)\n",
        "st.title('Tomato Classifier')\n",
        "st.text('Provide Url Of The Tomato Classification Model')\n",
        "\n",
        "@st.cache(allow_output_mutation=True)\n",
        "def load_model():\n",
        "  model = tf.keras.models.load_model('/content/drive/My Drive/Colab Notebooks/model_inception.h5')\n",
        "  return model\n",
        "\n",
        "with st.spinner('Loading Model Into Memory......'):\n",
        "  model = load_model()\n",
        "\n",
        "classes = ['Bacterial_spot', 'Early_blight', 'Late_blight', 'Leaf_Mold', 'Septoria_leaf_spot', 'Spider_mites Two-spotted_spider_mite', 'Target_Spot', 'Tomato_Yellow_Leaf_Curl_Virus', 'Tomato_mosaic_virus', 'Healthy']\n",
        "def scale(image):\n",
        "  image = tf.cast(image, tf.float32)\n",
        "  image /= 255.0\n",
        "  return tf.image.resize(image,[224, 224])\n",
        "\n",
        "def decode_img(image):\n",
        "  img = tf.image.decode_jpeg(image, channels =3)\n",
        "  img = scale(img)\n",
        "  return np.expand_dims(img, axis=0)\n",
        "path = st.text_input('Enter Image Url to Classify.. ','https://i2.wp.com/savvygardening.com/wp-content/uploads/2018/01/tomato_plant_disease_septoria_leaf_spot.jpg?w=600&ssl=1')\n",
        "if path is not None:\n",
        "  content = requests.get(path).content\n",
        "\n",
        "  st.write('Predicted Class :')\n",
        "  with st.spinner('classifying.....'):\n",
        "    label =np.argmax(model.predict(decode_img(content)),axis=1)\n",
        "    st.write(classes[label[0]])\n",
        "  st.write(classes[label[0]])\n",
        "  image = Image.open(BytesIO(content))\n",
        "  st.image(image, caption='Classify Tomato Image', use_column_width=True)\n",
        "  "
      ],
      "execution_count": 7,
      "outputs": [
        {
          "output_type": "stream",
          "text": [
            "Writing predict.py\n"
          ],
          "name": "stdout"
        }
      ]
    },
    {
      "cell_type": "code",
      "metadata": {
        "colab": {
          "base_uri": "https://localhost:8080/"
        },
        "id": "qk8BOEv4rmkZ",
        "outputId": "c63632b1-ac95-4b8d-a6a9-d9182e11909e"
      },
      "source": [
        "!nohup streamlit run --server.port 80 predict.py &\n"
      ],
      "execution_count": 8,
      "outputs": [
        {
          "output_type": "stream",
          "text": [
            "nohup: appending output to 'nohup.out'\n"
          ],
          "name": "stdout"
        }
      ]
    },
    {
      "cell_type": "code",
      "metadata": {
        "colab": {
          "base_uri": "https://localhost:8080/"
        },
        "id": "_pV68HKS0WSD",
        "outputId": "d79fd57e-d36c-43d4-87df-8d7806719446"
      },
      "source": [
        "from pyngrok import ngrok\n",
        "url = ngrok.connect(port=8501)\n",
        "url"
      ],
      "execution_count": 9,
      "outputs": [
        {
          "output_type": "execute_result",
          "data": {
            "text/plain": [
              "<NgrokTunnel: \"http://0f324637024e.ngrok.io\" -> \"http://localhost:80\">"
            ]
          },
          "metadata": {
            "tags": []
          },
          "execution_count": 9
        }
      ]
    },
    {
      "cell_type": "code",
      "metadata": {
        "id": "SR6Ujidl0gBW"
      },
      "source": [
        "!cat nohup.out"
      ],
      "execution_count": 10,
      "outputs": []
    }
  ]
}